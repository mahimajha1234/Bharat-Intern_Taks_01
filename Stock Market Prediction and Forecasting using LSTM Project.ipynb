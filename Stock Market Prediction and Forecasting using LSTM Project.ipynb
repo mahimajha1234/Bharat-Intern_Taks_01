{
 "cells": [
  {
   "cell_type": "markdown",
   "id": "8976e44f",
   "metadata": {},
   "source": [
    "# Import all libraries:-"
   ]
  },
  {
   "cell_type": "code",
   "execution_count": 1,
   "id": "9b1cdc50",
   "metadata": {},
   "outputs": [],
   "source": [
    "import numpy as np\n",
    "import pandas as pd\n",
    "import tensorflow as tf\n",
    "import matplotlib.pyplot as plt \n",
    "import seaborn as sns\n",
    "import warnings \n",
    "warnings.filterwarnings(\"ignore\")\n",
    "%matplotlib inline"
   ]
  },
  {
   "cell_type": "markdown",
   "id": "3b89d717",
   "metadata": {},
   "source": [
    "# Import the dataset:-"
   ]
  },
  {
   "cell_type": "code",
   "execution_count": 2,
   "id": "240e844e",
   "metadata": {},
   "outputs": [
    {
     "data": {
      "text/html": [
       "<div>\n",
       "<style scoped>\n",
       "    .dataframe tbody tr th:only-of-type {\n",
       "        vertical-align: middle;\n",
       "    }\n",
       "\n",
       "    .dataframe tbody tr th {\n",
       "        vertical-align: top;\n",
       "    }\n",
       "\n",
       "    .dataframe thead th {\n",
       "        text-align: right;\n",
       "    }\n",
       "</style>\n",
       "<table border=\"1\" class=\"dataframe\">\n",
       "  <thead>\n",
       "    <tr style=\"text-align: right;\">\n",
       "      <th></th>\n",
       "      <th>Date</th>\n",
       "      <th>Open</th>\n",
       "      <th>High</th>\n",
       "      <th>Low</th>\n",
       "      <th>Last</th>\n",
       "      <th>Close</th>\n",
       "      <th>Total Trade Quantity</th>\n",
       "      <th>Turnover (Lacs)</th>\n",
       "    </tr>\n",
       "  </thead>\n",
       "  <tbody>\n",
       "    <tr>\n",
       "      <th>0</th>\n",
       "      <td>2018-10-08</td>\n",
       "      <td>208.00</td>\n",
       "      <td>222.25</td>\n",
       "      <td>206.85</td>\n",
       "      <td>216.00</td>\n",
       "      <td>215.15</td>\n",
       "      <td>4642146.0</td>\n",
       "      <td>10062.83</td>\n",
       "    </tr>\n",
       "    <tr>\n",
       "      <th>1</th>\n",
       "      <td>2018-10-05</td>\n",
       "      <td>217.00</td>\n",
       "      <td>218.60</td>\n",
       "      <td>205.90</td>\n",
       "      <td>210.25</td>\n",
       "      <td>209.20</td>\n",
       "      <td>3519515.0</td>\n",
       "      <td>7407.06</td>\n",
       "    </tr>\n",
       "    <tr>\n",
       "      <th>2</th>\n",
       "      <td>2018-10-04</td>\n",
       "      <td>223.50</td>\n",
       "      <td>227.80</td>\n",
       "      <td>216.15</td>\n",
       "      <td>217.25</td>\n",
       "      <td>218.20</td>\n",
       "      <td>1728786.0</td>\n",
       "      <td>3815.79</td>\n",
       "    </tr>\n",
       "    <tr>\n",
       "      <th>3</th>\n",
       "      <td>2018-10-03</td>\n",
       "      <td>230.00</td>\n",
       "      <td>237.50</td>\n",
       "      <td>225.75</td>\n",
       "      <td>226.45</td>\n",
       "      <td>227.60</td>\n",
       "      <td>1708590.0</td>\n",
       "      <td>3960.27</td>\n",
       "    </tr>\n",
       "    <tr>\n",
       "      <th>4</th>\n",
       "      <td>2018-10-01</td>\n",
       "      <td>234.55</td>\n",
       "      <td>234.60</td>\n",
       "      <td>221.05</td>\n",
       "      <td>230.30</td>\n",
       "      <td>230.90</td>\n",
       "      <td>1534749.0</td>\n",
       "      <td>3486.05</td>\n",
       "    </tr>\n",
       "  </tbody>\n",
       "</table>\n",
       "</div>"
      ],
      "text/plain": [
       "         Date    Open    High     Low    Last   Close  Total Trade Quantity  \\\n",
       "0  2018-10-08  208.00  222.25  206.85  216.00  215.15             4642146.0   \n",
       "1  2018-10-05  217.00  218.60  205.90  210.25  209.20             3519515.0   \n",
       "2  2018-10-04  223.50  227.80  216.15  217.25  218.20             1728786.0   \n",
       "3  2018-10-03  230.00  237.50  225.75  226.45  227.60             1708590.0   \n",
       "4  2018-10-01  234.55  234.60  221.05  230.30  230.90             1534749.0   \n",
       "\n",
       "   Turnover (Lacs)  \n",
       "0         10062.83  \n",
       "1          7407.06  \n",
       "2          3815.79  \n",
       "3          3960.27  \n",
       "4          3486.05  "
      ]
     },
     "execution_count": 2,
     "metadata": {},
     "output_type": "execute_result"
    }
   ],
   "source": [
    "df = pd.read_csv(\"NSE-TATAGLOBAL.csv\")\n",
    "df.head()"
   ]
  },
  {
   "cell_type": "code",
   "execution_count": 3,
   "id": "1ee767c0",
   "metadata": {},
   "outputs": [
    {
     "name": "stdout",
     "output_type": "stream",
     "text": [
      "<class 'pandas.core.frame.DataFrame'>\n",
      "RangeIndex: 1235 entries, 0 to 1234\n",
      "Data columns (total 8 columns):\n",
      " #   Column                Non-Null Count  Dtype  \n",
      "---  ------                --------------  -----  \n",
      " 0   Date                  1235 non-null   object \n",
      " 1   Open                  1235 non-null   float64\n",
      " 2   High                  1235 non-null   float64\n",
      " 3   Low                   1235 non-null   float64\n",
      " 4   Last                  1235 non-null   float64\n",
      " 5   Close                 1235 non-null   float64\n",
      " 6   Total Trade Quantity  1235 non-null   float64\n",
      " 7   Turnover (Lacs)       1235 non-null   float64\n",
      "dtypes: float64(7), object(1)\n",
      "memory usage: 77.3+ KB\n"
     ]
    }
   ],
   "source": [
    "df.info()"
   ]
  },
  {
   "cell_type": "code",
   "execution_count": 4,
   "id": "718014e7",
   "metadata": {},
   "outputs": [
    {
     "data": {
      "text/plain": [
       "Date                    0\n",
       "Open                    0\n",
       "High                    0\n",
       "Low                     0\n",
       "Last                    0\n",
       "Close                   0\n",
       "Total Trade Quantity    0\n",
       "Turnover (Lacs)         0\n",
       "dtype: int64"
      ]
     },
     "execution_count": 4,
     "metadata": {},
     "output_type": "execute_result"
    }
   ],
   "source": [
    "df.isnull().sum()"
   ]
  },
  {
   "cell_type": "code",
   "execution_count": 5,
   "id": "86e22cc7",
   "metadata": {},
   "outputs": [
    {
     "data": {
      "text/plain": [
       "[<matplotlib.lines.Line2D at 0x23370726c80>]"
      ]
     },
     "execution_count": 5,
     "metadata": {},
     "output_type": "execute_result"
    },
    {
     "data": {
      "image/png": "[encoded data removed]",
      "text/plain": [
       "<Figure size 640x480 with 1 Axes>"
      ]
     },
     "metadata": {},
     "output_type": "display_data"
    }
   ],
   "source": [
    "plt.plot(df[\"Close\"])"
   ]
  },
  {
   "cell_type": "code",
   "execution_count": 6,
   "id": "7b67c3a7",
   "metadata": {},
   "outputs": [
    {
     "data": {
      "text/plain": [
       "0       215.15\n",
       "1       209.20\n",
       "2       218.20\n",
       "3       227.60\n",
       "4       230.90\n",
       "         ...  \n",
       "1230    159.45\n",
       "1231    160.05\n",
       "1232    160.15\n",
       "1233    155.55\n",
       "1234    155.80\n",
       "Name: Close, Length: 1235, dtype: float64"
      ]
     },
     "execution_count": 6,
     "metadata": {},
     "output_type": "execute_result"
    }
   ],
   "source": [
    "df_close = df[\"Close\"]\n",
    "df_close"
   ]
  },
  {
   "cell_type": "markdown",
   "id": "e0689bd9",
   "metadata": {},
   "source": [
    "# Feature Scaling (MinMax Scaler):-"
   ]
  },
  {
   "cell_type": "code",
   "execution_count": 7,
   "id": "b80cd5b5",
   "metadata": {},
   "outputs": [
    {
     "data": {
      "text/plain": [
       "array([[0.50425818],\n",
       "       [0.47758853],\n",
       "       [0.51792918],\n",
       "       ...,\n",
       "       [0.25773196],\n",
       "       [0.2371134 ],\n",
       "       [0.23823398]])"
      ]
     },
     "execution_count": 7,
     "metadata": {},
     "output_type": "execute_result"
    }
   ],
   "source": [
    "from sklearn.preprocessing import MinMaxScaler\n",
    "sc = MinMaxScaler(feature_range = (0, 1))\n",
    "df_close_scaled = sc.fit_transform(np.array(df_close).reshape(-1,1))\n",
    "df_close_scaled"
   ]
  },
  {
   "cell_type": "markdown",
   "id": "b5eb195b",
   "metadata": {},
   "source": [
    "# Split the dataset into train and test:-"
   ]
  },
  {
   "cell_type": "code",
   "execution_count": 8,
   "id": "1875fa3d",
   "metadata": {},
   "outputs": [],
   "source": [
    "train_data = int(len(df_close_scaled)*0.7)\n",
    "test_data = len(df_close_scaled) - train_data\n",
    "train_data,test_data = df_close_scaled[0:train_data,:],df_close_scaled[train_data:len(df_close_scaled),:1]"
   ]
  },
  {
   "cell_type": "code",
   "execution_count": 9,
   "id": "4fa7f64c",
   "metadata": {},
   "outputs": [
    {
     "data": {
      "text/plain": [
       "(864, 1)"
      ]
     },
     "execution_count": 9,
     "metadata": {},
     "output_type": "execute_result"
    }
   ],
   "source": [
    "train_data.shape"
   ]
  },
  {
   "cell_type": "code",
   "execution_count": 10,
   "id": "9f265fb8",
   "metadata": {},
   "outputs": [
    {
     "data": {
      "text/plain": [
       "(371, 1)"
      ]
     },
     "execution_count": 10,
     "metadata": {},
     "output_type": "execute_result"
    }
   ],
   "source": [
    "test_data.shape"
   ]
  },
  {
   "cell_type": "markdown",
   "id": "5681474f",
   "metadata": {},
   "source": [
    "# Convert an array of values into a dataset matrix:-"
   ]
  },
  {
   "cell_type": "code",
   "execution_count": 11,
   "id": "3801627d",
   "metadata": {},
   "outputs": [],
   "source": [
    "def create_dataset(dataset,time_step = 1):\n",
    "    dataX,dataY = [],[]\n",
    "    for i in range(len(dataset) - time_step - 1):\n",
    "        a = dataset[i:(i+time_step),0]\n",
    "        dataX.append(a)\n",
    "        dataY.append(dataset[i+time_step,0])\n",
    "    return np.array(dataX),np.array(dataY)"
   ]
  },
  {
   "cell_type": "markdown",
   "id": "4a92c943",
   "metadata": {},
   "source": [
    "# Reshaping of dataset:-"
   ]
  },
  {
   "cell_type": "code",
   "execution_count": 12,
   "id": "cdb1d047",
   "metadata": {},
   "outputs": [],
   "source": [
    "time_step = 100\n",
    "x_train,y_train = create_dataset(train_data,time_step)\n",
    "x_test,y_test = create_dataset(test_data,time_step)"
   ]
  },
  {
   "cell_type": "code",
   "execution_count": 13,
   "id": "cd0ca74a",
   "metadata": {},
   "outputs": [
    {
     "data": {
      "text/plain": [
       "(763, 100)"
      ]
     },
     "execution_count": 13,
     "metadata": {},
     "output_type": "execute_result"
    }
   ],
   "source": [
    "x_train.shape"
   ]
  },
  {
   "cell_type": "code",
   "execution_count": 14,
   "id": "438de5d4",
   "metadata": {},
   "outputs": [
    {
     "data": {
      "text/plain": [
       "(270, 100)"
      ]
     },
     "execution_count": 14,
     "metadata": {},
     "output_type": "execute_result"
    }
   ],
   "source": [
    "x_test.shape"
   ]
  },
  {
   "cell_type": "code",
   "execution_count": 15,
   "id": "015403dd",
   "metadata": {},
   "outputs": [],
   "source": [
    "x_train = x_train.reshape(x_train.shape[0],x_train.shape[1],1)\n",
    "x_test = x_test.reshape(x_test.shape[0],x_test.shape[1],1)"
   ]
  },
  {
   "cell_type": "code",
   "execution_count": 16,
   "id": "41d41ac4",
   "metadata": {},
   "outputs": [
    {
     "data": {
      "text/plain": [
       "array([[[0.50425818],\n",
       "        [0.47758853],\n",
       "        [0.51792918],\n",
       "        ...,\n",
       "        [0.64926042],\n",
       "        [0.62057373],\n",
       "        [0.62752129]],\n",
       "\n",
       "       [[0.47758853],\n",
       "        [0.51792918],\n",
       "        [0.56006275],\n",
       "        ...,\n",
       "        [0.62057373],\n",
       "        [0.62752129],\n",
       "        [0.6869117 ]],\n",
       "\n",
       "       [[0.51792918],\n",
       "        [0.56006275],\n",
       "        [0.57485433],\n",
       "        ...,\n",
       "        [0.62752129],\n",
       "        [0.6869117 ],\n",
       "        [0.82855222]],\n",
       "\n",
       "       ...,\n",
       "\n",
       "       [[0.082026  ],\n",
       "        [0.07978485],\n",
       "        [0.07866428],\n",
       "        ...,\n",
       "        [0.21313312],\n",
       "        [0.21066786],\n",
       "        [0.21313312]],\n",
       "\n",
       "       [[0.07978485],\n",
       "        [0.07866428],\n",
       "        [0.09636934],\n",
       "        ...,\n",
       "        [0.21066786],\n",
       "        [0.21313312],\n",
       "        [0.22680412]],\n",
       "\n",
       "       [[0.07866428],\n",
       "        [0.09636934],\n",
       "        [0.07261318],\n",
       "        ...,\n",
       "        [0.21313312],\n",
       "        [0.22680412],\n",
       "        [0.24607799]]])"
      ]
     },
     "execution_count": 16,
     "metadata": {},
     "output_type": "execute_result"
    }
   ],
   "source": [
    "x_train"
   ]
  },
  {
   "cell_type": "markdown",
   "id": "70cd0eda",
   "metadata": {},
   "source": [
    "# Created the Stacked LSTM Model:-"
   ]
  },
  {
   "cell_type": "code",
   "execution_count": 17,
   "id": "965f5ddd",
   "metadata": {},
   "outputs": [],
   "source": [
    "from tensorflow.keras.models import Sequential\n",
    "from tensorflow.keras.layers import Dense\n",
    "from tensorflow.keras.layers import LSTM\n",
    "from tensorflow.keras.layers import Dropout"
   ]
  },
  {
   "cell_type": "code",
   "execution_count": 18,
   "id": "859eb8d2",
   "metadata": {},
   "outputs": [
    {
     "name": "stdout",
     "output_type": "stream",
     "text": [
      "Epoch 1/50\n",
      "24/24 [==============================] - 45s 240ms/step - loss: 0.0265\n",
      "Epoch 2/50\n",
      "24/24 [==============================] - 4s 176ms/step - loss: 0.0048\n",
      "Epoch 3/50\n",
      "24/24 [==============================] - 4s 169ms/step - loss: 0.0035\n",
      "Epoch 4/50\n",
      "24/24 [==============================] - 4s 170ms/step - loss: 0.0030\n",
      "Epoch 5/50\n",
      "24/24 [==============================] - 4s 170ms/step - loss: 0.0026\n",
      "Epoch 6/50\n",
      "24/24 [==============================] - 4s 168ms/step - loss: 0.0026\n",
      "Epoch 7/50\n",
      "24/24 [==============================] - 4s 172ms/step - loss: 0.0024\n",
      "Epoch 8/50\n",
      "24/24 [==============================] - 4s 172ms/step - loss: 0.0021\n",
      "Epoch 9/50\n",
      "24/24 [==============================] - 4s 172ms/step - loss: 0.0023\n",
      "Epoch 10/50\n",
      "24/24 [==============================] - 4s 171ms/step - loss: 0.0019\n",
      "Epoch 11/50\n",
      "24/24 [==============================] - 4s 167ms/step - loss: 0.0022\n",
      "Epoch 12/50\n",
      "24/24 [==============================] - 4s 171ms/step - loss: 0.0018\n",
      "Epoch 13/50\n",
      "24/24 [==============================] - 4s 185ms/step - loss: 0.0018\n",
      "Epoch 14/50\n",
      "24/24 [==============================] - 5s 190ms/step - loss: 0.0020\n",
      "Epoch 15/50\n",
      "24/24 [==============================] - 4s 171ms/step - loss: 0.0021\n",
      "Epoch 16/50\n",
      "24/24 [==============================] - 4s 182ms/step - loss: 0.0016\n",
      "Epoch 17/50\n",
      "24/24 [==============================] - 4s 172ms/step - loss: 0.0017\n",
      "Epoch 18/50\n",
      "24/24 [==============================] - 5s 213ms/step - loss: 0.0016\n",
      "Epoch 19/50\n",
      "24/24 [==============================] - 4s 179ms/step - loss: 0.0018\n",
      "Epoch 20/50\n",
      "24/24 [==============================] - 4s 168ms/step - loss: 0.0014\n",
      "Epoch 21/50\n",
      "24/24 [==============================] - 4s 165ms/step - loss: 0.0012\n",
      "Epoch 22/50\n",
      "24/24 [==============================] - 4s 165ms/step - loss: 0.0014\n",
      "Epoch 23/50\n",
      "24/24 [==============================] - 4s 164ms/step - loss: 0.0013\n",
      "Epoch 24/50\n",
      "24/24 [==============================] - 4s 166ms/step - loss: 0.0014\n",
      "Epoch 25/50\n",
      "24/24 [==============================] - 4s 164ms/step - loss: 0.0012\n",
      "Epoch 26/50\n",
      "24/24 [==============================] - 4s 164ms/step - loss: 0.0010\n",
      "Epoch 27/50\n",
      "24/24 [==============================] - 4s 170ms/step - loss: 9.9743e-04\n",
      "Epoch 28/50\n",
      "24/24 [==============================] - 4s 164ms/step - loss: 0.0011\n",
      "Epoch 29/50\n",
      "24/24 [==============================] - 4s 167ms/step - loss: 9.6902e-04\n",
      "Epoch 30/50\n",
      "24/24 [==============================] - 4s 168ms/step - loss: 9.2582e-04\n",
      "Epoch 31/50\n",
      "24/24 [==============================] - 4s 179ms/step - loss: 9.5148e-04\n",
      "Epoch 32/50\n",
      "24/24 [==============================] - 4s 171ms/step - loss: 8.3142e-04\n",
      "Epoch 33/50\n",
      "24/24 [==============================] - 4s 172ms/step - loss: 8.4336e-04\n",
      "Epoch 34/50\n",
      "24/24 [==============================] - 4s 174ms/step - loss: 8.2438e-04\n",
      "Epoch 35/50\n",
      "24/24 [==============================] - 4s 166ms/step - loss: 7.5089e-04\n",
      "Epoch 36/50\n",
      "24/24 [==============================] - 4s 167ms/step - loss: 7.1396e-04\n",
      "Epoch 37/50\n",
      "24/24 [==============================] - 4s 169ms/step - loss: 6.6805e-04\n",
      "Epoch 38/50\n",
      "24/24 [==============================] - 4s 173ms/step - loss: 6.7194e-04\n",
      "Epoch 39/50\n",
      "24/24 [==============================] - 4s 171ms/step - loss: 6.7027e-04\n",
      "Epoch 40/50\n",
      "24/24 [==============================] - 4s 169ms/step - loss: 7.2010e-04\n",
      "Epoch 41/50\n",
      "24/24 [==============================] - 4s 183ms/step - loss: 6.1923e-04\n",
      "Epoch 42/50\n",
      "24/24 [==============================] - 4s 169ms/step - loss: 6.4403e-04\n",
      "Epoch 43/50\n",
      "24/24 [==============================] - 4s 168ms/step - loss: 5.5320e-04\n",
      "Epoch 44/50\n",
      "24/24 [==============================] - 5s 190ms/step - loss: 6.2691e-04\n",
      "Epoch 45/50\n",
      "24/24 [==============================] - 4s 175ms/step - loss: 7.8533e-04\n",
      "Epoch 46/50\n",
      "24/24 [==============================] - 4s 178ms/step - loss: 6.0368e-04\n",
      "Epoch 47/50\n",
      "24/24 [==============================] - 4s 171ms/step - loss: 4.9794e-04\n",
      "Epoch 48/50\n",
      "24/24 [==============================] - 5s 190ms/step - loss: 4.8527e-04\n",
      "Epoch 49/50\n",
      "24/24 [==============================] - 4s 186ms/step - loss: 4.6965e-04\n",
      "Epoch 50/50\n",
      "24/24 [==============================] - 4s 181ms/step - loss: 4.7693e-04\n"
     ]
    },
    {
     "data": {
      "text/plain": [
       "<keras.callbacks.History at 0x23373e27370>"
      ]
     },
     "execution_count": 18,
     "metadata": {},
     "output_type": "execute_result"
    }
   ],
   "source": [
    "model = Sequential()\n",
    "# First LSTM layer\n",
    "model.add(LSTM(units = 50,return_sequences = True,input_shape = (100, 1)))\n",
    "\n",
    "# second LSTM layer\n",
    "model.add(LSTM(units = 50, return_sequences = True))\n",
    "\n",
    "# third LSTM layer\n",
    "model.add(LSTM(units = 50, return_sequences = True))\n",
    "\n",
    "# fourth LSTM layer\n",
    "model.add(LSTM(units = 50))\n",
    "\n",
    "# Adding the output layer\n",
    "model.add(Dense(units = 1))\n",
    "\n",
    "# Compiling the RNN\n",
    "model.compile(optimizer = 'adam', loss = 'mean_squared_error')\n",
    "\n",
    "# Fitting the RNN to the Training set\n",
    "model.fit(x_train, y_train, epochs = 50, batch_size = 32)"
   ]
  },
  {
   "cell_type": "code",
   "execution_count": 19,
   "id": "cd7175c4",
   "metadata": {},
   "outputs": [
    {
     "name": "stdout",
     "output_type": "stream",
     "text": [
      "Model: \"sequential\"\n",
      "_________________________________________________________________\n",
      " Layer (type)                Output Shape              Param #   \n",
      "=================================================================\n",
      " lstm (LSTM)                 (None, 100, 50)           10400     \n",
      "                                                                 \n",
      " lstm_1 (LSTM)               (None, 100, 50)           20200     \n",
      "                                                                 \n",
      " lstm_2 (LSTM)               (None, 100, 50)           20200     \n",
      "                                                                 \n",
      " lstm_3 (LSTM)               (None, 50)                20200     \n",
      "                                                                 \n",
      " dense (Dense)               (None, 1)                 51        \n",
      "                                                                 \n",
      "=================================================================\n",
      "Total params: 71,051\n",
      "Trainable params: 71,051\n",
      "Non-trainable params: 0\n",
      "_________________________________________________________________\n"
     ]
    }
   ],
   "source": [
    "model.summary()"
   ]
  },
  {
   "cell_type": "markdown",
   "id": "fc5f2302",
   "metadata": {},
   "source": [
    "# Predict the model:-"
   ]
  },
  {
   "cell_type": "code",
   "execution_count": 20,
   "id": "248a87f2",
   "metadata": {},
   "outputs": [
    {
     "name": "stdout",
     "output_type": "stream",
     "text": [
      "24/24 [==============================] - 514s 2s/step\n",
      "9/9 [==============================] - 5s 262ms/step\n"
     ]
    }
   ],
   "source": [
    "train_pred = model.predict(x_train)\n",
    "test_pred = model.predict(x_test)"
   ]
  },
  {
   "cell_type": "code",
   "execution_count": 21,
   "id": "cc8435b4",
   "metadata": {},
   "outputs": [],
   "source": [
    "train_pred = sc.inverse_transform(train_pred)\n",
    "test_pred = sc.inverse_transform(test_pred)"
   ]
  },
  {
   "cell_type": "code",
   "execution_count": 22,
   "id": "58322535",
   "metadata": {},
   "outputs": [],
   "source": [
    "import math\n",
    "from sklearn.metrics import mean_squared_error"
   ]
  },
  {
   "cell_type": "code",
   "execution_count": 23,
   "id": "d5a6a1c5",
   "metadata": {},
   "outputs": [
    {
     "name": "stdout",
     "output_type": "stream",
     "text": [
      "Mean Squared Error of training data : 173.34263856247347\n"
     ]
    }
   ],
   "source": [
    "print(\"Mean Squared Error of training data :\",math.sqrt(mean_squared_error(y_train,train_pred)))"
   ]
  },
  {
   "cell_type": "code",
   "execution_count": 24,
   "id": "69990451",
   "metadata": {},
   "outputs": [
    {
     "name": "stdout",
     "output_type": "stream",
     "text": [
      "Mean Squared Error of testing data : 150.47958746444223\n"
     ]
    }
   ],
   "source": [
    "print(\"Mean Squared Error of testing data :\",math.sqrt(mean_squared_error(y_test,test_pred)))"
   ]
  },
  {
   "cell_type": "markdown",
   "id": "0b9e2de7",
   "metadata": {},
   "source": [
    "# Visualising the result:-"
   ]
  },
  {
   "cell_type": "code",
   "execution_count": 26,
   "id": "4d8bdc4b",
   "metadata": {},
   "outputs": [
    {
     "data": {
      "image/png": "[encoded data removed]",
      "text/plain": [
       "<Figure size 640x480 with 1 Axes>"
      ]
     },
     "metadata": {},
     "output_type": "display_data"
    }
   ],
   "source": [
    "plt.plot(train_data, color = 'orange', label = 'Actual Stock Price')\n",
    "plt.plot(test_data, color = 'green', label = 'Predicted Stock Price')\n",
    "plt.title('Stock Price Prediction')\n",
    "plt.xlabel('Time')\n",
    "plt.ylabel('Stock Price')\n",
    "plt.legend()\n",
    "plt.show()"
   ]
  },
  {
   "cell_type": "code",
   "execution_count": null,
   "id": "2d061c22",
   "metadata": {},
   "outputs": [],
   "source": []
  }
 ],
 "metadata": {
  "kernelspec": {
   "display_name": "Python 3 (ipykernel)",
   "language": "python",
   "name": "python3"
  },
  "language_info": {
   "codemirror_mode": {
    "name": "ipython",
    "version": 3
   },
   "file_extension": ".py",
   "mimetype": "text/x-python",
   "name": "python",
   "nbconvert_exporter": "python",
   "pygments_lexer": "ipython3",
   "version": "3.10.7"
  }
 },
 "nbformat": 4,
 "nbformat_minor": 5
}
